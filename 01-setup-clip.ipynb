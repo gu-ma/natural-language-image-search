{
 "cells": [
  {
   "cell_type": "markdown",
   "metadata": {},
   "source": [
    "# Unsplash Image Search\n",
    "\n",
    "The project allows you to search images on Unsplash by using a natural words description. It is powered by OpenAI's [CLIP model](https://github.com/openai/CLIP).\n",
    "\n",
    "Use this notebook to setup your environment."
   ]
  },
  {
   "cell_type": "markdown",
   "metadata": {},
   "source": [
    "## Install the Dependencies\n",
    "\n",
    "To install the project's dependencies (including those for CLIP) run the following in the terminal. It is a good idea to create a virtual environment.\n",
    "\n",
    "```\n",
    "pip install -r requirements.txt\n",
    "```"
   ]
  },
  {
   "cell_type": "code",
   "execution_count": 6,
   "metadata": {},
   "outputs": [
    {
     "name": "stdout",
     "output_type": "stream",
     "text": [
      "/home/guma/miniconda3/envs/clip/bin/pip\r\n"
     ]
    }
   ],
   "source": [
    "!which pip"
   ]
  },
  {
   "cell_type": "code",
   "execution_count": 2,
   "metadata": {},
   "outputs": [
    {
     "name": "stdout",
     "output_type": "stream",
     "text": [
      "Requirement already satisfied: backcall==0.2.0 in /home/guma/miniconda3/envs/clip/lib/python3.7/site-packages (from -r requirements.txt (line 1)) (0.2.0)\n",
      "Collecting decorator==4.4.2\n",
      "  Using cached decorator-4.4.2-py2.py3-none-any.whl (9.2 kB)\n",
      "Collecting ipykernel==5.4.3\n",
      "  Using cached ipykernel-5.4.3-py3-none-any.whl (120 kB)\n",
      "Collecting ipython==7.19.0\n",
      "  Using cached ipython-7.19.0-py3-none-any.whl (784 kB)\n",
      "Requirement already satisfied: ipython-genutils==0.2.0 in /home/guma/miniconda3/envs/clip/lib/python3.7/site-packages (from -r requirements.txt (line 5)) (0.2.0)\n",
      "Collecting jedi==0.18.0\n",
      "  Using cached jedi-0.18.0-py2.py3-none-any.whl (1.4 MB)\n",
      "Collecting jupyter-client==6.1.11\n",
      "  Using cached jupyter_client-6.1.11-py3-none-any.whl (108 kB)\n",
      "Collecting jupyter-core==4.7.0\n",
      "  Using cached jupyter_core-4.7.0-py3-none-any.whl (82 kB)\n",
      "Collecting parso==0.8.1\n",
      "  Using cached parso-0.8.1-py2.py3-none-any.whl (93 kB)\n",
      "Requirement already satisfied: pexpect==4.8.0 in /home/guma/miniconda3/envs/clip/lib/python3.7/site-packages (from -r requirements.txt (line 10)) (4.8.0)\n",
      "Requirement already satisfied: pickleshare==0.7.5 in /home/guma/miniconda3/envs/clip/lib/python3.7/site-packages (from -r requirements.txt (line 11)) (0.7.5)\n",
      "Collecting prompt-toolkit==3.0.10\n",
      "  Using cached prompt_toolkit-3.0.10-py3-none-any.whl (355 kB)\n",
      "Requirement already satisfied: ptyprocess==0.7.0 in /home/guma/miniconda3/envs/clip/lib/python3.7/site-packages (from -r requirements.txt (line 13)) (0.7.0)\n",
      "Collecting Pygments==2.7.4\n",
      "  Using cached Pygments-2.7.4-py3-none-any.whl (950 kB)\n",
      "Collecting python-dateutil==2.8.1\n",
      "  Using cached python_dateutil-2.8.1-py2.py3-none-any.whl (227 kB)\n",
      "Collecting pyzmq==21.0.1\n",
      "  Downloading pyzmq-21.0.1-cp37-cp37m-manylinux1_x86_64.whl (6.7 MB)\n",
      "\u001b[K     |████████████████████████████████| 6.7 MB 1.8 MB/s eta 0:00:01\n",
      "\u001b[?25hCollecting six==1.15.0\n",
      "  Using cached six-1.15.0-py2.py3-none-any.whl (10 kB)\n",
      "Requirement already satisfied: tornado==6.1 in /home/guma/miniconda3/envs/clip/lib/python3.7/site-packages (from -r requirements.txt (line 18)) (6.1)\n",
      "Collecting traitlets==5.0.5\n",
      "  Using cached traitlets-5.0.5-py3-none-any.whl (100 kB)\n",
      "Requirement already satisfied: wcwidth==0.2.5 in /home/guma/miniconda3/envs/clip/lib/python3.7/site-packages (from -r requirements.txt (line 20)) (0.2.5)\n",
      "Collecting python-dotenv==0.15.0\n",
      "  Using cached python_dotenv-0.15.0-py2.py3-none-any.whl (18 kB)\n",
      "Collecting ipyplot==1.1.0\n",
      "  Using cached ipyplot-1.1.0-py3-none-any.whl (13 kB)\n",
      "Collecting torch==1.7.1\n",
      "  Downloading torch-1.7.1-cp37-cp37m-manylinux1_x86_64.whl (776.8 MB)\n",
      "\u001b[K     |████████████████████████████████| 776.8 MB 22 kB/s s eta 0:00:01     |████████████                    | 292.4 MB 5.3 MB/s eta 0:01:32\n",
      "\u001b[?25hCollecting torchvision==0.8.2\n",
      "  Downloading torchvision-0.8.2-cp37-cp37m-manylinux1_x86_64.whl (12.8 MB)\n",
      "\u001b[K     |████████████████████████████████| 12.8 MB 11.8 MB/s eta 0:00:01\n",
      "\u001b[?25hCollecting ftfy==5.8\n",
      "  Using cached ftfy-5.8.tar.gz (64 kB)\n",
      "Collecting regex==2020.11.13\n",
      "  Downloading regex-2020.11.13-cp37-cp37m-manylinux2014_x86_64.whl (719 kB)\n",
      "\u001b[K     |████████████████████████████████| 719 kB 5.0 MB/s eta 0:00:01\n",
      "\u001b[?25hCollecting tqdm==4.56.0\n",
      "  Using cached tqdm-4.56.0-py2.py3-none-any.whl (72 kB)\n",
      "Collecting pandas==1.2.0\n",
      "  Downloading pandas-1.2.0-cp37-cp37m-manylinux1_x86_64.whl (9.9 MB)\n",
      "\u001b[K     |████████████████████████████████| 9.9 MB 7.6 MB/s eta 0:00:01\n",
      "\u001b[?25hCollecting fastparquet==0.5.0\n",
      "  Using cached fastparquet-0.5.0.tar.gz (120 kB)\n",
      "Collecting pyarrow==2.0.0\n",
      "  Downloading pyarrow-2.0.0-cp37-cp37m-manylinux2014_x86_64.whl (17.7 MB)\n",
      "\u001b[K     |████████████████████████████████| 17.7 MB 10.5 MB/s eta 0:00:01\n",
      "\u001b[?25hRequirement already satisfied: setuptools>=18.5 in /home/guma/miniconda3/envs/clip/lib/python3.7/site-packages (from ipython==7.19.0->-r requirements.txt (line 4)) (58.0.4)\n",
      "Collecting pillow\n",
      "  Downloading Pillow-8.4.0-cp37-cp37m-manylinux_2_17_x86_64.manylinux2014_x86_64.whl (3.1 MB)\n",
      "\u001b[K     |████████████████████████████████| 3.1 MB 5.5 MB/s eta 0:00:01\n",
      "\u001b[?25hCollecting shortuuid\n",
      "  Downloading shortuuid-1.0.8-py3-none-any.whl (9.5 kB)\n",
      "Collecting numpy\n",
      "  Using cached numpy-1.21.4-cp37-cp37m-manylinux_2_12_x86_64.manylinux2010_x86_64.whl (15.7 MB)\n",
      "Requirement already satisfied: typing-extensions in /home/guma/miniconda3/envs/clip/lib/python3.7/site-packages (from torch==1.7.1->-r requirements.txt (line 23)) (4.0.0)\n",
      "Collecting pytz>=2017.3\n",
      "  Downloading pytz-2021.3-py2.py3-none-any.whl (503 kB)\n",
      "\u001b[K     |████████████████████████████████| 503 kB 8.7 MB/s eta 0:00:01\n",
      "\u001b[?25hCollecting numba>=0.49\n",
      "  Downloading numba-0.54.1-cp37-cp37m-manylinux2014_x86_64.manylinux_2_17_x86_64.whl (3.3 MB)\n",
      "\u001b[K     |████████████████████████████████| 3.3 MB 5.7 MB/s eta 0:00:01\n",
      "\u001b[?25hCollecting thrift>=0.11.0\n",
      "  Downloading thrift-0.15.0.tar.gz (59 kB)\n",
      "\u001b[K     |████████████████████████████████| 59 kB 1.9 MB/s eta 0:00:01\n",
      "\u001b[?25hCollecting llvmlite<0.38,>=0.37.0rc1\n",
      "  Downloading llvmlite-0.37.0-cp37-cp37m-manylinux2014_x86_64.whl (26.3 MB)\n",
      "\u001b[K     |████████████████████████████████| 26.3 MB 522 kB/s  eta 0:00:01\n",
      "\u001b[?25hCollecting numpy\n",
      "  Downloading numpy-1.20.3-cp37-cp37m-manylinux_2_12_x86_64.manylinux2010_x86_64.whl (15.3 MB)\n",
      "\u001b[K     |████████████████████████████████| 15.3 MB 6.2 MB/s eta 0:00:01\n",
      "\u001b[?25hBuilding wheels for collected packages: ftfy, fastparquet, thrift\n",
      "  Building wheel for ftfy (setup.py) ... \u001b[?25ldone\n",
      "\u001b[?25h  Created wheel for ftfy: filename=ftfy-5.8-py3-none-any.whl size=45633 sha256=3a1a5b9885f273a3e68a4eb2722a7a8eb6183a38345a7aa269fe5a439470e6f0\n",
      "  Stored in directory: /home/guma/.cache/pip/wheels/49/1c/fc/8b19700f939810cd8fd9495ae34934b246279791288eda1c31\n",
      "  Building wheel for fastparquet (setup.py) ... \u001b[?25ldone\n",
      "\u001b[?25h  Created wheel for fastparquet: filename=fastparquet-0.5.0-cp37-cp37m-linux_x86_64.whl size=243814 sha256=bce1139df169c8e45925893adac109d9ec092e591e80f085212a743c811bcac3\n",
      "  Stored in directory: /home/guma/.cache/pip/wheels/a4/c3/8a/eee13aaf7ac012dcf62c6b5905c74816e91518186de270e8c1\n",
      "  Building wheel for thrift (setup.py) ... \u001b[?25ldone\n",
      "\u001b[?25h  Created wheel for thrift: filename=thrift-0.15.0-cp37-cp37m-linux_x86_64.whl size=414033 sha256=5e2880577b25b429f2f82ec74de9b1f1cd7ae7a9f3400a7c1faa217051a3dfda\n",
      "  Stored in directory: /home/guma/.cache/pip/wheels/ba/1f/8e/e6fd36837eecf3d1f2b23f1729477e8e06558d8d60b7093f51\n",
      "Successfully built ftfy fastparquet thrift\n",
      "Installing collected packages: traitlets, six, parso, pyzmq, pytz, python-dateutil, Pygments, prompt-toolkit, numpy, llvmlite, jupyter-core, jedi, decorator, torch, thrift, shortuuid, pillow, pandas, numba, jupyter-client, ipython, tqdm, torchvision, regex, python-dotenv, pyarrow, ipyplot, ipykernel, ftfy, fastparquet\n",
      "  Attempting uninstall: traitlets\n",
      "    Found existing installation: traitlets 5.1.1\n",
      "    Uninstalling traitlets-5.1.1:\n",
      "      Successfully uninstalled traitlets-5.1.1\n",
      "  Attempting uninstall: six\n",
      "    Found existing installation: six 1.16.0\n",
      "    Uninstalling six-1.16.0:\n",
      "      Successfully uninstalled six-1.16.0\n",
      "  Attempting uninstall: parso\n",
      "    Found existing installation: parso 0.8.2\n",
      "    Uninstalling parso-0.8.2:\n",
      "      Successfully uninstalled parso-0.8.2\n",
      "  Attempting uninstall: pyzmq\n",
      "    Found existing installation: pyzmq 22.3.0\n",
      "    Uninstalling pyzmq-22.3.0:\n",
      "      Successfully uninstalled pyzmq-22.3.0\n",
      "  Attempting uninstall: python-dateutil\n",
      "    Found existing installation: python-dateutil 2.8.2\n",
      "    Uninstalling python-dateutil-2.8.2:\n",
      "      Successfully uninstalled python-dateutil-2.8.2\n",
      "  Attempting uninstall: Pygments\n",
      "    Found existing installation: Pygments 2.10.0\n",
      "    Uninstalling Pygments-2.10.0:\n",
      "      Successfully uninstalled Pygments-2.10.0\n",
      "  Attempting uninstall: prompt-toolkit\n",
      "    Found existing installation: prompt-toolkit 3.0.23\n",
      "    Uninstalling prompt-toolkit-3.0.23:\n",
      "      Successfully uninstalled prompt-toolkit-3.0.23\n",
      "  Attempting uninstall: jupyter-core\n",
      "    Found existing installation: jupyter-core 4.9.1\n",
      "    Uninstalling jupyter-core-4.9.1:\n",
      "      Successfully uninstalled jupyter-core-4.9.1\n",
      "  Attempting uninstall: jedi\n",
      "    Found existing installation: jedi 0.18.1\n",
      "    Uninstalling jedi-0.18.1:\n",
      "      Successfully uninstalled jedi-0.18.1\n",
      "  Attempting uninstall: decorator\n",
      "    Found existing installation: decorator 5.1.0\n",
      "    Uninstalling decorator-5.1.0:\n"
     ]
    },
    {
     "name": "stdout",
     "output_type": "stream",
     "text": [
      "      Successfully uninstalled decorator-5.1.0\n",
      "  Attempting uninstall: jupyter-client\n",
      "    Found existing installation: jupyter-client 7.1.0\n",
      "    Uninstalling jupyter-client-7.1.0:\n",
      "      Successfully uninstalled jupyter-client-7.1.0\n",
      "  Attempting uninstall: ipython\n",
      "    Found existing installation: ipython 7.30.0\n",
      "    Uninstalling ipython-7.30.0:\n",
      "      Successfully uninstalled ipython-7.30.0\n",
      "  Attempting uninstall: ipykernel\n",
      "    Found existing installation: ipykernel 6.5.1\n",
      "    Uninstalling ipykernel-6.5.1:\n",
      "      Successfully uninstalled ipykernel-6.5.1\n",
      "Successfully installed Pygments-2.7.4 decorator-4.4.2 fastparquet-0.5.0 ftfy-5.8 ipykernel-5.4.3 ipyplot-1.1.0 ipython-7.19.0 jedi-0.18.0 jupyter-client-6.1.11 jupyter-core-4.7.0 llvmlite-0.37.0 numba-0.54.1 numpy-1.20.3 pandas-1.2.0 parso-0.8.1 pillow-8.4.0 prompt-toolkit-3.0.10 pyarrow-2.0.0 python-dateutil-2.8.1 python-dotenv-0.15.0 pytz-2021.3 pyzmq-21.0.1 regex-2020.11.13 shortuuid-1.0.8 six-1.15.0 thrift-0.15.0 torch-1.7.1 torchvision-0.8.2 tqdm-4.56.0 traitlets-5.0.5\n"
     ]
    }
   ],
   "source": [
    "!pip install -r requirements.txt"
   ]
  },
  {
   "cell_type": "markdown",
   "metadata": {},
   "source": [
    "## Clone the CLIP repository and copy the code"
   ]
  },
  {
   "cell_type": "code",
   "execution_count": 7,
   "metadata": {},
   "outputs": [
    {
     "name": "stdout",
     "output_type": "stream",
     "text": [
      "Collecting git+https://github.com/openai/CLIP.git\n",
      "  Cloning https://github.com/openai/CLIP.git to /tmp/pip-req-build-xv1nqqt9\n",
      "  Running command git clone -q https://github.com/openai/CLIP.git /tmp/pip-req-build-xv1nqqt9\n",
      "  Resolved https://github.com/openai/CLIP.git to commit 573315e83f07b53a61ff5098757e8fc885f1703e\n",
      "Requirement already satisfied: ftfy in /home/guma/miniconda3/envs/clip/lib/python3.7/site-packages (from clip==1.0) (5.8)\n",
      "Requirement already satisfied: regex in /home/guma/miniconda3/envs/clip/lib/python3.7/site-packages (from clip==1.0) (2020.11.13)\n",
      "Requirement already satisfied: tqdm in /home/guma/miniconda3/envs/clip/lib/python3.7/site-packages (from clip==1.0) (4.56.0)\n",
      "Requirement already satisfied: torch in /home/guma/miniconda3/envs/clip/lib/python3.7/site-packages (from clip==1.0) (1.7.1)\n",
      "Requirement already satisfied: torchvision in /home/guma/miniconda3/envs/clip/lib/python3.7/site-packages (from clip==1.0) (0.8.2)\n",
      "Requirement already satisfied: wcwidth in /home/guma/miniconda3/envs/clip/lib/python3.7/site-packages (from ftfy->clip==1.0) (0.2.5)\n",
      "Requirement already satisfied: numpy in /home/guma/miniconda3/envs/clip/lib/python3.7/site-packages (from torch->clip==1.0) (1.20.3)\n",
      "Requirement already satisfied: typing-extensions in /home/guma/miniconda3/envs/clip/lib/python3.7/site-packages (from torch->clip==1.0) (4.0.0)\n",
      "Requirement already satisfied: pillow>=4.1.1 in /home/guma/miniconda3/envs/clip/lib/python3.7/site-packages (from torchvision->clip==1.0) (8.4.0)\n",
      "Building wheels for collected packages: clip\n",
      "  Building wheel for clip (setup.py) ... \u001b[?25ldone\n",
      "\u001b[?25h  Created wheel for clip: filename=clip-1.0-py3-none-any.whl size=1369106 sha256=7d352168b1d82ad73fc8a0ad00af08052015f55f34ad28a86665a516f0fcdf0a\n",
      "  Stored in directory: /tmp/pip-ephem-wheel-cache-l52sjz6v/wheels/fd/b9/c3/5b4470e35ed76e174bff77c92f91da82098d5e35fd5bc8cdac\n",
      "Successfully built clip\n",
      "Installing collected packages: clip\n",
      "Successfully installed clip-1.0\n"
     ]
    }
   ],
   "source": [
    "!pip install git+https://github.com/openai/CLIP.git"
   ]
  },
  {
   "cell_type": "code",
   "execution_count": 3,
   "metadata": {},
   "outputs": [
    {
     "name": "stdout",
     "output_type": "stream",
     "text": [
      "Cloning into 'CLIP'...\n",
      "remote: Enumerating objects: 185, done.\u001b[K\n",
      "remote: Counting objects: 100% (17/17), done.\u001b[K\n",
      "remote: Compressing objects: 100% (12/12), done.\u001b[K\n",
      "remote: Total 185 (delta 7), reused 6 (delta 3), pack-reused 168\u001b[K\n",
      "Receiving objects: 100% (185/185), 8.90 MiB | 3.43 MiB/s, done.\n",
      "Resolving deltas: 100% (89/89), done.\n",
      "zsh:1: no matches found: CLIP/*.gz\n"
     ]
    }
   ],
   "source": [
    "# # Clone the CLIP repository\n",
    "# !git clone https://github.com/openai/CLIP.git\n",
    "\n",
    "# # Move the CLIP source files and the vocabulary in the root directory. \n",
    "# # Unfortunately, the CLIP code is not organized as a module, so it cannot be imported easily\n",
    "# !mv CLIP/*.py .\n",
    "# !mv CLIP/*.gz .\n"
   ]
  },
  {
   "cell_type": "code",
   "execution_count": 5,
   "metadata": {},
   "outputs": [
    {
     "name": "stdout",
     "output_type": "stream",
     "text": [
      "01-setup-clip.ipynb\t\t    CLIP       requirements.txt\r\n",
      "02-download-unsplash-dataset.ipynb  colab      setup.py\r\n",
      "03-process-unsplash-dataset.ipynb   images     unsplash-dataset\r\n",
      "04-search-image-dataset.ipynb\t    LICENSE    unsplash-proxy\r\n",
      "09-search-image-api.ipynb\t    README.md\r\n"
     ]
    }
   ],
   "source": [
    "!ls"
   ]
  },
  {
   "cell_type": "code",
   "execution_count": null,
   "metadata": {},
   "outputs": [],
   "source": []
  }
 ],
 "metadata": {
  "kernelspec": {
   "display_name": "Python [conda env:clip]",
   "language": "python",
   "name": "conda-env-clip-py"
  },
  "language_info": {
   "codemirror_mode": {
    "name": "ipython",
    "version": 3
   },
   "file_extension": ".py",
   "mimetype": "text/x-python",
   "name": "python",
   "nbconvert_exporter": "python",
   "pygments_lexer": "ipython3",
   "version": "3.7.11"
  }
 },
 "nbformat": 4,
 "nbformat_minor": 2
}
